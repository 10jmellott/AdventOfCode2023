{
 "cells": [
  {
   "cell_type": "markdown",
   "metadata": {},
   "source": [
    "# Advent of Code 2023\n",
    "\n",
    "[Advent of Code](https://adventofcode.com/) is a celebration of coding mixed with the holiday spirit. In 2023 we are working on fixing a global snow crisis. When's the last time you've seen a white Christmas, eh?\n",
    "\n",
    "> Something is wrong with global snow production, and you've been selected to take a look. The Elves have even given you a map; on it, they've used stars to mark the top fifty locations that are likely to be having problems.\n",
    "\n",
    "> You've been doing this long enough to know that to restore snow operations, you need to check all fifty stars by December 25th."
   ]
  },
  {
   "cell_type": "markdown",
   "metadata": {},
   "source": [
    "## Shared\n",
    "\n",
    "Commonly used imports throughout the application will make things a little easier moving forward"
   ]
  },
  {
   "cell_type": "code",
   "execution_count": 1,
   "metadata": {},
   "outputs": [],
   "source": [
    "from functools import reduce\n",
    "import re"
   ]
  },
  {
   "cell_type": "code",
   "execution_count": 2,
   "metadata": {},
   "outputs": [],
   "source": [
    "# File Extensions\n",
    "def readlinesext(f):\n",
    "    return list(map(lambda l: l.strip(), f))\n",
    "def readlinesnl(f):\n",
    "    return list(map(lambda l: l.strip('\\n'), f))"
   ]
  },
  {
   "cell_type": "code",
   "execution_count": 3,
   "metadata": {},
   "outputs": [],
   "source": [
    "# Data Read Functions\n",
    "def openfile(name, testdata = False):\n",
    "    dir = 'test' if testdata else 'data'\n",
    "    return open(f'{dir}/{name}.txt', 'r')\n"
   ]
  },
  {
   "cell_type": "markdown",
   "metadata": {},
   "source": [
    "# Day 1: Trebuchet?!\n",
    "\n",
    "As mentioned in the premise, there's a problem with snow, so the elves decide the best way to solve this is to launch us into the sky with a Trebuchet. Somehow. However, while adjusting the trebuchet they found they can't read the calibration document as is was written by a more 'artsy' elf and need some help deciphering it."
   ]
  },
  {
   "cell_type": "markdown",
   "metadata": {},
   "source": [
    "Start by reading in the calibration document."
   ]
  },
  {
   "cell_type": "code",
   "execution_count": 4,
   "metadata": {},
   "outputs": [],
   "source": [
    "f = openfile('01')\n",
    "lines = readlinesext(f)"
   ]
  },
  {
   "cell_type": "markdown",
   "metadata": {},
   "source": [
    "Now, for each line, it seems the only relevant part of the calibration are the first and last digits. We want to join each digit from each line as one number and then sum the value of each line. "
   ]
  },
  {
   "cell_type": "code",
   "execution_count": 5,
   "metadata": {},
   "outputs": [
    {
     "data": {
      "text/plain": [
       "55090"
      ]
     },
     "execution_count": 5,
     "metadata": {},
     "output_type": "execute_result"
    }
   ],
   "source": [
    "value = 0\n",
    "for line in lines:\n",
    "    # Capture the first numerical digit in line\n",
    "    first = re.search(r'\\d', line)\n",
    "    # Reverse the line and capture the first numerical digit\n",
    "    last = re.search(r'\\d', line[::-1])\n",
    "    # Condition necessary as test data changed between part 1 & 2\n",
    "    if first and last:\n",
    "        # Add the two captured digits together\n",
    "        value += int(f'{first.group()}{last.group()}')\n",
    "value\n"
   ]
  },
  {
   "cell_type": "markdown",
   "metadata": {},
   "source": [
    "**Part 2:** Something isn't right with just taking the first and last digits. Apparently some digits are spelled out in full (like 'nine'). So, now we need the first and last digits...but also need to consider possibilities like 'one' or 'five' as a digit. This certainly complicates things a bit."
   ]
  },
  {
   "cell_type": "markdown",
   "metadata": {},
   "source": [
    "To help us out I've built out a quick parsing function for the values"
   ]
  },
  {
   "cell_type": "code",
   "execution_count": 6,
   "metadata": {},
   "outputs": [],
   "source": [
    "def parseNumber(value):\n",
    "    # Parse the spelled out digits to their numerical equivalent\n",
    "    if value == 'one' or value == 'eno':\n",
    "        value = 1\n",
    "    elif value == 'two' or value == 'owt':\n",
    "        value = 2\n",
    "    elif value == 'three' or value == 'eerht':\n",
    "        value = 3\n",
    "    elif value == 'four' or value == 'ruof':\n",
    "        value = 4\n",
    "    elif value == 'five' or value == 'evif':\n",
    "        value = 5\n",
    "    elif value == 'six' or value == 'xis':\n",
    "        value = 6\n",
    "    elif value == 'seven' or value == 'neves':\n",
    "        value = 7\n",
    "    elif value == 'eight' or value == 'thgie':\n",
    "        value = 8\n",
    "    elif value == 'nine' or value == 'enin':\n",
    "        value = 9\n",
    "    return value"
   ]
  },
  {
   "cell_type": "code",
   "execution_count": 7,
   "metadata": {},
   "outputs": [
    {
     "data": {
      "text/plain": [
       "54845"
      ]
     },
     "execution_count": 7,
     "metadata": {},
     "output_type": "execute_result"
    }
   ],
   "source": [
    "total = 0\n",
    "for line in lines:\n",
    "    # Capture the first numerical digit in line or the first match of a digit spelled out like 'one' or 'five'\n",
    "    first = re.search(r'\\d|one|two|three|four|five|six|seven|eight|nine', line)\n",
    "    # Reverse the line and capture the first numerical digit or the first match of a digit spelled out in reverse like 'eno' or 'evif'\n",
    "    last = re.search(r'\\d|eno|owt|eerht|ruof|evif|xis|neves|thgie|enin', line[::-1])\n",
    "    # Condition necessary as test data changed between part 1 & 2\n",
    "    if first and last:\n",
    "        # Add the two captured digits together\n",
    "        total += int(f'{parseNumber(first.group())}{parseNumber(last.group())}')\n",
    "total"
   ]
  },
  {
   "cell_type": "markdown",
   "metadata": {},
   "source": [
    "# Day 2: Cube Conundrum\n",
    "\n",
    "The elves launch us into the sky and we land on 'Snow Island'. On the island you meet an elf who takes you on a walk to sit down and discuss the snow situation further. While we walk we play a game where the elf pulls cubes out of a bag to guess the number of cubes in the bag."
   ]
  },
  {
   "cell_type": "markdown",
   "metadata": {},
   "source": [
    "Start by recording the result of each game."
   ]
  },
  {
   "cell_type": "code",
   "execution_count": 13,
   "metadata": {},
   "outputs": [],
   "source": [
    "# Open the file\n",
    "f = openfile('02')\n",
    "lines = readlinesext(f)\n",
    "\n",
    "# Discard the game # as it's the same as the index\n",
    "lines = list(map(lambda l: l.split(': ')[1], lines))\n",
    "\n",
    "# Each line is single game in the format of 'Game #: # color, # color; # color; # color, # color, # color. Split each game into a set of cubes separated by ; and then split each color into a set of colors separated by ,\n",
    "games = list(map(lambda l: list(map(lambda m: list(map(lambda n: n.split(' '), list(m.split(', ')))), l.split('; '))), lines))"
   ]
  },
  {
   "cell_type": "markdown",
   "metadata": {},
   "source": [
    "Now that we have the result of each game split out, the elf would first like to know which games would have been possible if the bag contained only 12 red cubes, 13 green cubes, and 14 blue cubes? In other words, which games contain a set with more than 12 red, 13 green, or 14 blue."
   ]
  },
  {
   "cell_type": "code",
   "execution_count": 14,
   "metadata": {},
   "outputs": [
    {
     "data": {
      "text/plain": [
       "2076"
      ]
     },
     "execution_count": 14,
     "metadata": {},
     "output_type": "execute_result"
    }
   ],
   "source": [
    "limits = {\n",
    "    'red': 12,\n",
    "    'green': 13,\n",
    "    'blue': 14\n",
    "}\n",
    "\n",
    "# For each game, check if the number of cubes is greater than the limit for that color\n",
    "validsum = 0\n",
    "for i in range(0, len(games)):\n",
    "    game = games[i]\n",
    "    gamevalid = True\n",
    "    for set in game:\n",
    "        for cubes in set:\n",
    "            # Capture the color and number of cubes from cubes defined as '(#) (color)'\n",
    "            num, color = cubes\n",
    "            # Check if the number of cubes is greater than the limit for that color\n",
    "            if int(num) > limits[color]:\n",
    "                gamevalid = False\n",
    "                break\n",
    "    if gamevalid:\n",
    "        validsum += i + 1\n",
    "\n",
    "# Return the sum of game IDs that are valid\n",
    "validsum"
   ]
  },
  {
   "cell_type": "markdown",
   "metadata": {},
   "source": [
    "**Part 2:** We aren't getting snow as the Snow Island isn't getting any water. As we walk to the water source, we continue playing the game with a new question. What is the smallest number of cubes for the bag that would make each game possible. Or, in other words, what is the maximum number of each cube color in each game."
   ]
  },
  {
   "cell_type": "code",
   "execution_count": 15,
   "metadata": {},
   "outputs": [],
   "source": [
    "gamemaximums = []\n",
    "for game in games:\n",
    "    maximums = { 'red': 0, 'green': 0, 'blue': 0 }\n",
    "    for set in game:\n",
    "        for cubes in set:\n",
    "            # Capture the color and number of cubes from cubes defined as '(#) (color)'\n",
    "            num, color  = cubes\n",
    "            \n",
    "            # Capture the maximum\n",
    "            maximums[color] = max(maximums[color], int(num))\n",
    "    gamemaximums.append(maximums)"
   ]
  },
  {
   "cell_type": "markdown",
   "metadata": {},
   "source": [
    "Now we want the sum of the 'power' of each game, which is the maximum of each color from each game multiplies together."
   ]
  },
  {
   "cell_type": "code",
   "execution_count": 16,
   "metadata": {},
   "outputs": [
    {
     "data": {
      "text/plain": [
       "70950"
      ]
     },
     "execution_count": 16,
     "metadata": {},
     "output_type": "execute_result"
    }
   ],
   "source": [
    "sum(map(lambda m: m['red'] * m['green'] * m['blue'], gamemaximums))"
   ]
  }
 ],
 "metadata": {
  "kernelspec": {
   "display_name": "Python 3",
   "language": "python",
   "name": "python3"
  },
  "language_info": {
   "codemirror_mode": {
    "name": "ipython",
    "version": 3
   },
   "file_extension": ".py",
   "mimetype": "text/x-python",
   "name": "python",
   "nbconvert_exporter": "python",
   "pygments_lexer": "ipython3",
   "version": "3.9.7"
  }
 },
 "nbformat": 4,
 "nbformat_minor": 2
}
