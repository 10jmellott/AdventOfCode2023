{
 "cells": [
  {
   "cell_type": "markdown",
   "metadata": {},
   "source": [
    "# Advent of Code 2023\n",
    "\n",
    "[Advent of Code](https://adventofcode.com/) is a celebration of coding mixed with the holiday spirit. In 2023 we are working on fixing a global snow crisis. When's the last time you've seen a white Christmas, eh?\n",
    "\n",
    "> Something is wrong with global snow production, and you've been selected to take a look. The Elves have even given you a map; on it, they've used stars to mark the top fifty locations that are likely to be having problems.\n",
    "\n",
    "> You've been doing this long enough to know that to restore snow operations, you need to check all fifty stars by December 25th."
   ]
  },
  {
   "cell_type": "markdown",
   "metadata": {},
   "source": [
    "## Shared\n",
    "\n",
    "Commonly used imports throughout the application will make things a little easier moving forward"
   ]
  },
  {
   "cell_type": "code",
   "execution_count": 49,
   "metadata": {},
   "outputs": [],
   "source": [
    "from functools import reduce\n",
    "import re"
   ]
  },
  {
   "cell_type": "code",
   "execution_count": 50,
   "metadata": {},
   "outputs": [],
   "source": [
    "# File Extensions\n",
    "def readlinesext(f):\n",
    "    return list(map(lambda l: l.strip(), f))\n",
    "def readlinesnl(f):\n",
    "    return list(map(lambda l: l.strip('\\n'), f))"
   ]
  },
  {
   "cell_type": "code",
   "execution_count": 51,
   "metadata": {},
   "outputs": [],
   "source": [
    "# Data Read Functions\n",
    "def openfile(name, testdata = False):\n",
    "    dir = 'test' if testdata else 'data'\n",
    "    return open(f'{dir}/{name}.txt', 'r')\n"
   ]
  },
  {
   "cell_type": "markdown",
   "metadata": {},
   "source": [
    "# Day 1: Trebuchet?!\n",
    "\n",
    "As mentioned in the premise, there's a problem with snow, so the elves decide the best way to solve this is to launch us into the sky with a Trebuchet. Somehow. However, while adjusting the trebuchet they found they can't read the calibration document as is was written by a more 'artsy' elf and need some help deciphering it."
   ]
  },
  {
   "cell_type": "markdown",
   "metadata": {},
   "source": [
    "Start by reading in the calibration document."
   ]
  },
  {
   "cell_type": "code",
   "execution_count": 52,
   "metadata": {},
   "outputs": [],
   "source": [
    "f = openfile('01')\n",
    "lines = readlinesext(f)"
   ]
  },
  {
   "cell_type": "markdown",
   "metadata": {},
   "source": [
    "Now, for each line, it seems the only relevant part of the calibration are the first and last digits. We want to join each digit from each line as one number and then sum the value of each line. "
   ]
  },
  {
   "cell_type": "code",
   "execution_count": 53,
   "metadata": {},
   "outputs": [
    {
     "data": {
      "text/plain": [
       "55090"
      ]
     },
     "execution_count": 53,
     "metadata": {},
     "output_type": "execute_result"
    }
   ],
   "source": [
    "sum = 0\n",
    "for line in lines:\n",
    "    # Capture the first numerical digit in line\n",
    "    first = re.search(r'\\d', line)\n",
    "    # Reverse the line and capture the first numerical digit\n",
    "    last = re.search(r'\\d', line[::-1])\n",
    "    # Condition necessary as test data changed between part 1 & 2\n",
    "    if first and last:\n",
    "        # Add the two captured digits together\n",
    "        sum += int(f'{first.group()}{last.group()}')\n",
    "sum\n"
   ]
  },
  {
   "cell_type": "markdown",
   "metadata": {},
   "source": [
    "## Part 2\n",
    "\n",
    "Something isn't right with just taking the first and last digits. Apparently some digits are spelled out in full (like 'nine'). So, now we need the first and last digits...but also need to consider possibilities like 'one' or 'five' as a digit. This certainly complicates things a bit."
   ]
  },
  {
   "cell_type": "markdown",
   "metadata": {},
   "source": [
    "To help us out I've built out a quick parsing function for the values"
   ]
  },
  {
   "cell_type": "code",
   "execution_count": 54,
   "metadata": {},
   "outputs": [],
   "source": [
    "def parseNumber(value):\n",
    "    # Parse the spelled out digits to their numerical equivalent\n",
    "    if value == 'one' or value == 'eno':\n",
    "        value = 1\n",
    "    elif value == 'two' or value == 'owt':\n",
    "        value = 2\n",
    "    elif value == 'three' or value == 'eerht':\n",
    "        value = 3\n",
    "    elif value == 'four' or value == 'ruof':\n",
    "        value = 4\n",
    "    elif value == 'five' or value == 'evif':\n",
    "        value = 5\n",
    "    elif value == 'six' or value == 'xis':\n",
    "        value = 6\n",
    "    elif value == 'seven' or value == 'neves':\n",
    "        value = 7\n",
    "    elif value == 'eight' or value == 'thgie':\n",
    "        value = 8\n",
    "    elif value == 'nine' or value == 'enin':\n",
    "        value = 9\n",
    "    return value"
   ]
  },
  {
   "cell_type": "code",
   "execution_count": 55,
   "metadata": {},
   "outputs": [
    {
     "data": {
      "text/plain": [
       "54845"
      ]
     },
     "execution_count": 55,
     "metadata": {},
     "output_type": "execute_result"
    }
   ],
   "source": [
    "sum = 0\n",
    "for line in lines:\n",
    "    # Capture the first numerical digit in line or the first match of a digit spelled out like 'one' or 'five'\n",
    "    first = re.search(r'\\d|one|two|three|four|five|six|seven|eight|nine', line)\n",
    "    # Reverse the line and capture the first numerical digit or the first match of a digit spelled out in reverse like 'eno' or 'evif'\n",
    "    last = re.search(r'\\d|eno|owt|eerht|ruof|evif|xis|neves|thgie|enin', line[::-1])\n",
    "    # Condition necessary as test data changed between part 1 & 2\n",
    "    if first and last:\n",
    "        # Add the two captured digits together\n",
    "        sum += int(f'{parseNumber(first.group())}{parseNumber(last.group())}')\n",
    "sum"
   ]
  }
 ],
 "metadata": {
  "kernelspec": {
   "display_name": "Python 3",
   "language": "python",
   "name": "python3"
  },
  "language_info": {
   "codemirror_mode": {
    "name": "ipython",
    "version": 3
   },
   "file_extension": ".py",
   "mimetype": "text/x-python",
   "name": "python",
   "nbconvert_exporter": "python",
   "pygments_lexer": "ipython3",
   "version": "3.9.7"
  }
 },
 "nbformat": 4,
 "nbformat_minor": 2
}
